{
 "cells": [
  {
   "cell_type": "markdown",
   "metadata": {},
   "source": [
    "# New pattern generation algorithm"
   ]
  },
  {
   "cell_type": "code",
   "execution_count": 1,
   "metadata": {
    "collapsed": false
   },
   "outputs": [
    {
     "name": "stdout",
     "output_type": "stream",
     "text": [
      "Populating the interactive namespace from numpy and matplotlib\n"
     ]
    }
   ],
   "source": [
    "%pylab inline\n",
    "#nice plotting\n",
    "#import seaborn as sns\n",
    "import numexpr as ne\n",
    "#for minimizing the difference between the desired frequency and the calculated one\n",
    "from scipy.optimize import minimize\n",
    "#Need to be able to do polynomial fitting\n",
    "from sklearn.preprocessing import PolynomialFeatures\n",
    "from sklearn import linear_model\n",
    "#PIL allows us to write binary images, though we need a cludge, see 'Writing Binary Files.ipynb'\n",
    "from PIL import Image\n",
    "import os\n",
    "import zipfile\n",
    "import numexpr as ne"
   ]
  },
  {
   "cell_type": "code",
   "execution_count": 2,
   "metadata": {
    "collapsed": true
   },
   "outputs": [],
   "source": [
    "#original algorithm from mathematica\n",
    "def patterntabArbOld(vecA, period, onfrac = 0.5, phaseInd = 0, phaseOffset = 0., nphases =5, sizex =2048, sizey =1536):\n",
    "    veckA = array([[0,1],[-1,0]]).dot(vecA)\n",
    "    vecB = veckA/norm(vecA)*period\n",
    "    area = vecB.dot(veckA)\n",
    "    onpix = area*onfrac\n",
    "    phaseStep = vecB/nphases\n",
    "    \n",
    "    toReturn = zeros((sizex,sizey))\n",
    "    \n",
    "    val = (phaseStep*phaseInd+phaseOffset/(2*pi)*vecB)\n",
    "    \n",
    "    #return array([[mod((array([i,j])-val).dot(veckA),area) < onpix for i in range(1,sizex)] for j in range(1,sizey)])\n",
    "    \n",
    "    for i in range(sizex):\n",
    "        for j in range(sizey):\n",
    "            if mod((array([i,j])-val).dot(veckA),area) < onpix:\n",
    "                toReturn[i,j] = 1\n",
    "            else:\n",
    "                toReturn[i,j] = 0\n",
    "            \n",
    "    return toReturn.T"
   ]
  },
  {
   "cell_type": "code",
   "execution_count": 3,
   "metadata": {
    "collapsed": true
   },
   "outputs": [],
   "source": [
    "#faster working one\n",
    "def pattern_gen_old(vecA, period, onfrac = 0.5, phase_idx = 0., phase_offset = 0., nphases =5, sizex =2048, sizey =1536, SIM_2D = True):\n",
    "    '''\n",
    "    Generates a binary SLM pattern for SIM\n",
    "    \n",
    "    This function follows [Fiolka et al.][1] definition\n",
    "    \n",
    "    Parameters\n",
    "    ----------\n",
    "    x : array_like\n",
    "        the $\\vec{a}$ from [1]. Defines the pattern orientation\n",
    "    period : float\n",
    "        Defines the period of the pattern\n",
    "    onfrac : float\n",
    "        The fraction of on pixels in the pattern\n",
    "    phase_idx : int\n",
    "        The phase of the pattern (see `nphases` for more info)\n",
    "    phase_offset : float\n",
    "        The offset in phase, mostly used for aligning patterns of different colors\n",
    "    nphases : int\n",
    "        the number of phases\n",
    "    sizex : int\n",
    "        size of the pattern\n",
    "    sizey : int\n",
    "        size of the pattern\n",
    "\n",
    "    Returns\n",
    "    -------\n",
    "    pattern : ndarray\n",
    "        A binary array representing a single bitplane to send to the SLM\n",
    "    '''\n",
    "    \n",
    "    if not 0 < onfrac < 1:\n",
    "        raise ValueError('onfrac must have a value between 0 and 1. onfrac = {}'.format(onfrac))\n",
    "    \n",
    "    vecN = np.array([[0,1],[-1,0]]).dot(vecA)\n",
    "    vecB = vecN/norm(vecN)*period\n",
    "    area = vecB.dot(vecN)\n",
    "    onpix = area*onfrac\n",
    "    phase_step = vecB/nphases\n",
    "    \n",
    "    if SIM_2D:\n",
    "        #Then we only want to take steps of 2pi/n in illumination which means pi/n at the SLM\n",
    "        phase_step/=2\n",
    "    \n",
    "    val = (phase_step*phase_idx+phase_offset/(2*pi)*vecB)\n",
    "    \n",
    "    xx, yy = meshgrid(arange(sizex,dtype=float32),arange(sizey,dtype=float32))\n",
    "    my_grid = dstack((xx,yy))\n",
    "    my_grid -= val\n",
    "    \n",
    "    mydot = my_grid.dot(vecN)\n",
    "    return mod(mydot,area) < onpix"
   ]
  },
  {
   "cell_type": "code",
   "execution_count": 35,
   "metadata": {
    "collapsed": false
   },
   "outputs": [],
   "source": [
    "#newest one\n",
    "def pattern_gen_new(vecA, period, onfrac = 0.5, phase_idx = 0., phase_offset = 0., nphases =5, sizex =2048, sizey =1536, SIM_2D = True):\n",
    "    '''\n",
    "    Generates a binary SLM pattern for SIM\n",
    "    \n",
    "    This function follows [Fiolka et al.][1] definition\n",
    "    \n",
    "    Parameters\n",
    "    ----------\n",
    "    x : array_like\n",
    "        the $\\vec{a}$ from [1]. Defines the pattern orientation\n",
    "    period : float\n",
    "        Defines the period of the pattern\n",
    "    onfrac : float\n",
    "        The fraction of on pixels in the pattern\n",
    "    phase_idx : int\n",
    "        The phase of the pattern (see `nphases` for more info)\n",
    "    phase_offset : float\n",
    "        The offset in phase, mostly used for aligning patterns of different colors\n",
    "    nphases : int\n",
    "        the number of phases\n",
    "    sizex : int\n",
    "        size of the pattern\n",
    "    sizey : int\n",
    "        size of the pattern\n",
    "\n",
    "    Returns\n",
    "    -------\n",
    "    pattern : ndarray\n",
    "        A binary array representing a single bitplane to send to the SLM\n",
    "    '''\n",
    "    \n",
    "    if not 0 < onfrac < 1:\n",
    "        raise ValueError('onfrac must have a value between 0 and 1. onfrac = {}'.format(onfrac))\n",
    "    \n",
    "    #turns out that area doesn't matter (it drops out in the mod operation) so therefore the magnitude of a\n",
    "    #also doesn't matter. We should change this function to simply take an angle from which it can generate the\n",
    "    #bvector. The bvector has a length of period and an angle that is -90 degrees relative to the given angle\n",
    "    vecN = np.array([[0,1],[-1,0]]).dot(vecA)\n",
    "    vecB = vecN/norm(vecN)*period\n",
    "    phase_step = vecB/nphases\n",
    "    \n",
    "    if SIM_2D:\n",
    "        #Then we only want to take steps of 2pi/n in illumination which means pi/n at the SLM\n",
    "        phase_step/=2\n",
    "    \n",
    "    val = (phase_step*phase_idx+phase_offset/(2*pi)*vecB).reshape(2,1,1)\n",
    "    \n",
    "    #xx, yy = meshgrid(arange(sizex,dtype=float32),arange(sizey,dtype=float32))\n",
    "    #my_grid = dstack((xx,yy))\n",
    "    #my_grid -= val\n",
    "    \n",
    "    my_grid = indices((sizey,sizex),dtype=float)-val\n",
    "    \n",
    "    #Need to reshape to matrix because of BLAS \n",
    "    #(http://stackoverflow.com/questions/11856293/numpy-dot-product-very-slow-using-ints)\n",
    "    mydot = (my_grid.reshape(2,sizey*sizex).T).dot(vecB).reshape(sizey, sizex)\n",
    "    \n",
    "    toreturn = mydot-mydot.astype(int)\n",
    "    #fix the phase problem\n",
    "    toreturn[toreturn < 0]+=1\n",
    "\n",
    "    return toreturn < onfrac"
   ]
  },
  {
   "cell_type": "code",
   "execution_count": 182,
   "metadata": {
    "collapsed": true
   },
   "outputs": [],
   "source": [
    "#newest one\n",
    "def pattern_gen_new2(angle, period, onfrac = 0.5, phase_idx = 0., phase_offset = 0., nphases =5, sizex =2048, sizey =1536, SIM_2D = True):\n",
    "    '''\n",
    "    Generates a binary SLM pattern for SIM\n",
    "    \n",
    "    Generates a sine wave and then binarizes it\n",
    "    \n",
    "    Parameters\n",
    "    ----------\n",
    "    x : array_like\n",
    "        the $\\vec{a}$ from [1]. Defines the pattern orientation\n",
    "    period : float\n",
    "        Defines the period of the pattern\n",
    "    onfrac : float\n",
    "        The fraction of on pixels in the pattern\n",
    "    phase_idx : int\n",
    "        The phase of the pattern (see `nphases` for more info)\n",
    "    phase_offset : float\n",
    "        The offset in phase, mostly used for aligning patterns of different colors\n",
    "    nphases : int\n",
    "        the number of phases\n",
    "    sizex : int\n",
    "        size of the pattern\n",
    "    sizey : int\n",
    "        size of the pattern\n",
    "\n",
    "    Returns\n",
    "    -------\n",
    "    pattern : ndarray\n",
    "        A binary array representing a single bitplane to send to the SLM\n",
    "    '''\n",
    "    \n",
    "    if not 0 < onfrac < 1:\n",
    "        raise ValueError('onfrac must have a value between 0 and 1. onfrac = {}'.format(onfrac))\n",
    "    \n",
    "    \n",
    "    if SIM_2D:\n",
    "        #Then we only want to take steps of 2pi/n in illumination which means pi/n at the SLM\n",
    "        phase_step = 2\n",
    "    else:\n",
    "        phase_step = 1\n",
    "    \n",
    "    #indices are backwards here for backwards compatability with older generation code.\n",
    "    xx, yy = meshgrid(arange(sizex,dtype=float32),arange(sizey,dtype=float32))\n",
    "    \n",
    "    #here's the pattern frequency\n",
    "    freq = 2*pi/period\n",
    "    \n",
    "    #here's the phase stepping, note that its in the negative direction for backwards compatibility.\n",
    "    phi = -(phase_idx/nphases/phase_step)*(2*pi)+phase_offset\n",
    "    \n",
    "    #our sine goes from -1 to 1 while on frac goes from 0,1 so move onfrac into the right range\n",
    "    onfrac = onfrac*2-1\n",
    "    \n",
    "    #again, angle is negative to comply with previous versions\n",
    "    angle*=-1\n",
    "    \n",
    "    #do the evaluation\n",
    "    toreturn = ne.evaluate(\"sin(freq*(cos(angle)*xx+sin(angle)*yy)+phi) > onfrac\")\n",
    "    \n",
    "    return toreturn"
   ]
  },
  {
   "cell_type": "code",
   "execution_count": null,
   "metadata": {
    "collapsed": true
   },
   "outputs": [],
   "source": [
    "%timeit -r1 -n1 zz = patterntabArbOld([1,12],7,sizey=2048)\n",
    "%timeit -r1 -n1 zz = pattern_gen_old([1,12],7,sizey=2048)"
   ]
  },
  {
   "cell_type": "code",
   "execution_count": 177,
   "metadata": {
    "collapsed": false
   },
   "outputs": [
    {
     "name": "stdout",
     "output_type": "stream",
     "text": [
      "1 loops, best of 1: 152 ms per loop\n"
     ]
    }
   ],
   "source": [
    "%timeit -r1 -n1 zz = pattern_gen_new([1,12],7,sizey=2048)"
   ]
  },
  {
   "cell_type": "code",
   "execution_count": 194,
   "metadata": {
    "collapsed": false
   },
   "outputs": [
    {
     "name": "stdout",
     "output_type": "stream",
     "text": [
      "1 loops, best of 1: 63.9 ms per loop\n"
     ]
    }
   ],
   "source": [
    "%timeit -r1 -n1 zz = pattern_gen_new2(deg2rad(4.76),7,sizey=2048)"
   ]
  },
  {
   "cell_type": "code",
   "execution_count": null,
   "metadata": {
    "collapsed": true
   },
   "outputs": [],
   "source": []
  },
  {
   "cell_type": "code",
   "execution_count": 52,
   "metadata": {
    "collapsed": false
   },
   "outputs": [
    {
     "name": "stdout",
     "output_type": "stream",
     "text": [
      " "
     ]
    }
   ],
   "source": [
    "%prun zz = pattern_gen_new2(deg2rad(4.76),7,sizey=2048)"
   ]
  },
  {
   "cell_type": "code",
   "execution_count": 65,
   "metadata": {
    "collapsed": true
   },
   "outputs": [],
   "source": [
    "original = patterntabArbOld([1,12],7,sizey=2048)"
   ]
  },
  {
   "cell_type": "code",
   "execution_count": 66,
   "metadata": {
    "collapsed": true
   },
   "outputs": [],
   "source": [
    "working = pattern_gen_old([1,12],7,sizey=2048)"
   ]
  },
  {
   "cell_type": "code",
   "execution_count": 67,
   "metadata": {
    "collapsed": false
   },
   "outputs": [
    {
     "data": {
      "text/plain": [
       "True"
      ]
     },
     "execution_count": 67,
     "metadata": {},
     "output_type": "execute_result"
    }
   ],
   "source": [
    "(original == working).all()"
   ]
  },
  {
   "cell_type": "code",
   "execution_count": 141,
   "metadata": {
    "collapsed": true
   },
   "outputs": [],
   "source": [
    "original = patterntabArbOld([1,12],7,sizex=2048,sizey=2048)"
   ]
  },
  {
   "cell_type": "code",
   "execution_count": 142,
   "metadata": {
    "collapsed": true
   },
   "outputs": [],
   "source": [
    "working = pattern_gen_old([1,12],7,sizex = 2048, sizey=2048)"
   ]
  },
  {
   "cell_type": "code",
   "execution_count": 143,
   "metadata": {
    "collapsed": false
   },
   "outputs": [
    {
     "data": {
      "text/plain": [
       "True"
      ]
     },
     "execution_count": 143,
     "metadata": {},
     "output_type": "execute_result"
    }
   ],
   "source": [
    "(original == working).all()"
   ]
  },
  {
   "cell_type": "code",
   "execution_count": 144,
   "metadata": {
    "collapsed": false
   },
   "outputs": [
    {
     "data": {
      "text/plain": [
       "4.7636416907261916"
      ]
     },
     "execution_count": 144,
     "metadata": {},
     "output_type": "execute_result"
    }
   ],
   "source": [
    "rad2deg(arctan2(12,-1)-pi/2)"
   ]
  },
  {
   "cell_type": "code",
   "execution_count": 145,
   "metadata": {
    "collapsed": false
   },
   "outputs": [],
   "source": [
    "newest = pattern_gen_new2(arctan2(12,-1)-pi/2,7,sizex = 2048,sizey=2048)"
   ]
  },
  {
   "cell_type": "code",
   "execution_count": 146,
   "metadata": {
    "collapsed": false
   },
   "outputs": [
    {
     "data": {
      "text/plain": [
       "<matplotlib.image.AxesImage at 0xbf42ba8>"
      ]
     },
     "execution_count": 146,
     "metadata": {},
     "output_type": "execute_result"
    },
    {
     "data": {
      "image/png": "[encoded data removed]",
      "text/plain": [
       "<matplotlib.figure.Figure at 0xbee8710>"
      ]
     },
     "metadata": {},
     "output_type": "display_data"
    }
   ],
   "source": [
    "matshow(original)"
   ]
  },
  {
   "cell_type": "code",
   "execution_count": 147,
   "metadata": {
    "collapsed": false
   },
   "outputs": [
    {
     "data": {
      "text/plain": [
       "<matplotlib.image.AxesImage at 0xbfa26d8>"
      ]
     },
     "execution_count": 147,
     "metadata": {},
     "output_type": "execute_result"
    },
    {
     "data": {
      "image/png": "[encoded data removed]",
      "text/plain": [
       "<matplotlib.figure.Figure at 0xbf5f710>"
      ]
     },
     "metadata": {},
     "output_type": "display_data"
    }
   ],
   "source": [
    "matshow(newest)"
   ]
  },
  {
   "cell_type": "code",
   "execution_count": 156,
   "metadata": {
    "collapsed": false
   },
   "outputs": [
    {
     "data": {
      "text/plain": [
       "False"
      ]
     },
     "execution_count": 156,
     "metadata": {},
     "output_type": "execute_result"
    }
   ],
   "source": [
    "(newest == working).all()"
   ]
  },
  {
   "cell_type": "code",
   "execution_count": 155,
   "metadata": {
    "collapsed": false
   },
   "outputs": [
    {
     "name": "stderr",
     "output_type": "stream",
     "text": [
      "C:\\Anaconda3\\lib\\site-packages\\ipykernel\\__main__.py:1: DeprecationWarning: numpy boolean subtract (the binary `-` operator) is deprecated, use the bitwise_xor (the `^` operator) or the logical_xor function instead.\n",
      "  if __name__ == '__main__':\n"
     ]
    },
    {
     "data": {
      "text/plain": [
       "4.0769577026367188e-05"
      ]
     },
     "execution_count": 155,
     "metadata": {},
     "output_type": "execute_result"
    }
   ],
   "source": [
    "(working-newest).sum()/product(newest.shape)"
   ]
  },
  {
   "cell_type": "code",
   "execution_count": 158,
   "metadata": {
    "collapsed": false
   },
   "outputs": [
    {
     "name": "stderr",
     "output_type": "stream",
     "text": [
      "C:\\Anaconda3\\lib\\site-packages\\ipykernel\\__main__.py:2: DeprecationWarning: numpy boolean subtract (the binary `-` operator) is deprecated, use the bitwise_xor (the `^` operator) or the logical_xor function instead.\n",
      "  from ipykernel import kernelapp as app\n"
     ]
    },
    {
     "data": {
      "text/plain": [
       "<matplotlib.image.AxesImage at 0xc6417b8>"
      ]
     },
     "execution_count": 158,
     "metadata": {},
     "output_type": "execute_result"
    },
    {
     "data": {
      "image/png": "[encoded data removed]",
      "text/plain": [
       "<matplotlib.figure.Figure at 0xc6417f0>"
      ]
     },
     "metadata": {},
     "output_type": "display_data"
    }
   ],
   "source": [
    "fig,ax = subplots(1,1,figsize=(12,12))\n",
    "ax.matshow(working-newest)"
   ]
  },
  {
   "cell_type": "code",
   "execution_count": 192,
   "metadata": {
    "collapsed": false
   },
   "outputs": [
    {
     "name": "stderr",
     "output_type": "stream",
     "text": [
      "C:\\Anaconda3\\lib\\site-packages\\ipykernel\\__main__.py:4: DeprecationWarning: numpy boolean subtract (the binary `-` operator) is deprecated, use the bitwise_xor (the `^` operator) or the logical_xor function instead.\n",
      "C:\\Anaconda3\\lib\\site-packages\\ipykernel\\__main__.py:9: DeprecationWarning: numpy boolean subtract (the binary `-` operator) is deprecated, use the bitwise_xor (the `^` operator) or the logical_xor function instead.\n"
     ]
    },
    {
     "name": "stdout",
     "output_type": "stream",
     "text": [
      "4.06901041667e-05\n",
      "0.0\n",
      "0.0\n",
      "0.0\n",
      "0.0\n"
     ]
    },
    {
     "data": {
      "image/png": "[encoded data removed]",
      "text/plain": [
       "<matplotlib.figure.Figure at 0x1c775780>"
      ]
     },
     "metadata": {},
     "output_type": "display_data"
    },
    {
     "data": {
      "image/png": "[encoded data removed]",
      "text/plain": [
       "<matplotlib.figure.Figure at 0x1ca71710>"
      ]
     },
     "metadata": {},
     "output_type": "display_data"
    },
    {
     "data": {
      "image/png": "[encoded data removed]",
      "text/plain": [
       "<matplotlib.figure.Figure at 0xe532d30>"
      ]
     },
     "metadata": {},
     "output_type": "display_data"
    },
    {
     "data": {
      "image/png": "[encoded data removed]",
      "text/plain": [
       "<matplotlib.figure.Figure at 0xe58c518>"
      ]
     },
     "metadata": {},
     "output_type": "display_data"
    },
    {
     "data": {
      "image/png": "[encoded data removed]",
      "text/plain": [
       "<matplotlib.figure.Figure at 0x3101e940>"
      ]
     },
     "metadata": {},
     "output_type": "display_data"
    }
   ],
   "source": [
    "for i in range(5):\n",
    "    working = pattern_gen_old([1,12],100,phase_idx=i)\n",
    "    newest = pattern_gen_new2(arctan2(12,-1)-pi/2,100,phase_idx=i)\n",
    "    the_diff = (working-newest).sum()/product(newest.shape)\n",
    "    print(the_diff)\n",
    "    fig,ax = subplots(1,3,figsize=(18,6))\n",
    "    ax[0].matshow(working)\n",
    "    ax[1].matshow(newest)\n",
    "    ax[2].matshow(newest-working)"
   ]
  },
  {
   "cell_type": "code",
   "execution_count": 173,
   "metadata": {
    "collapsed": false
   },
   "outputs": [
    {
     "data": {
      "text/plain": [
       "<matplotlib.image.AxesImage at 0xd4d8550>"
      ]
     },
     "execution_count": 173,
     "metadata": {},
     "output_type": "execute_result"
    },
    {
     "data": {
      "image/png": "[encoded data removed]",
      "text/plain": [
       "<matplotlib.figure.Figure at 0xbe86400>"
      ]
     },
     "metadata": {},
     "output_type": "display_data"
    }
   ],
   "source": [
    "fig,ax = subplots(1,2,figsize=(12,6))\n",
    "ax[0].matshow(working)\n",
    "ax[1].matshow(newest)"
   ]
  },
  {
   "cell_type": "code",
   "execution_count": null,
   "metadata": {
    "collapsed": true
   },
   "outputs": [],
   "source": []
  }
 ],
 "metadata": {
  "kernelspec": {
   "display_name": "Python 3",
   "language": "python",
   "name": "python3"
  },
  "language_info": {
   "codemirror_mode": {
    "name": "ipython",
    "version": 3
   },
   "file_extension": ".py",
   "mimetype": "text/x-python",
   "name": "python",
   "nbconvert_exporter": "python",
   "pygments_lexer": "ipython3",
   "version": "3.4.3"
  }
 },
 "nbformat": 4,
 "nbformat_minor": 0
}
