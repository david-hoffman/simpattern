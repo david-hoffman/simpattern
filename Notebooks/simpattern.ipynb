{
 "cells": [
  {
   "cell_type": "markdown",
   "metadata": {},
   "source": [
    "# SIM Patter\n",
    "\n",
    "### The Python version\n",
    "\n",
    "Below is the Mathematica code for reference.\n",
    "\n",
    "```mathematica\n",
    "\n",
    "patterntabArb[vecA_, period_, onfrac_, phaseInd_, phaseOffset_: 0., \n",
    "  nphases_: 5, sizex_: 1280, sizey_: 1024] := Block[\n",
    "  {veckA = {1., -1.} Reverse[vecA], vecB, area, onpix, phaseStep},\n",
    "  \n",
    "  vecB = veckA/Norm[vecA]*period; area = vecB.veckA; \n",
    "  onpix = area * onfrac; phaseStep = vecB/nphases;\n",
    "  \n",
    "  Table[If[\n",
    "    Mod[({x, \n",
    "          y} - (phaseStep*phaseInd + \n",
    "           phaseOffset/(2. \\[Pi])*vecB)).veckA, area] >= onpix, 0., \n",
    "    1.], {y, 0, sizey - 1}, {x, 0, sizex - 1}]\n",
    "  ]\n",
    "\n",
    "```"
   ]
  },
  {
   "cell_type": "code",
   "execution_count": 1,
   "metadata": {
    "collapsed": false
   },
   "outputs": [
    {
     "name": "stdout",
     "output_type": "stream",
     "text": [
      "Populating the interactive namespace from numpy and matplotlib\n"
     ]
    }
   ],
   "source": [
    "%pylab inline\n",
    "import time"
   ]
  },
  {
   "cell_type": "code",
   "execution_count": 2,
   "metadata": {
    "collapsed": true
   },
   "outputs": [],
   "source": [
    "def patterntabArb(vecA, period, onfrac, phaseInd, phaseOffset = 0., nphases =5, sizex =1280, sizey =1024):\n",
    "    veckA = array([[0,1],[-1,0]]).dot(vecA)\n",
    "    vecB = veckA/norm(vecA)*period\n",
    "    area = vecB.dot(veckA)\n",
    "    onpix = area*onfrac\n",
    "    phaseStep = vecB/nphases\n",
    "    \n",
    "    toReturn = zeros((sizex,sizey))\n",
    "    \n",
    "    val = (phaseStep*phaseInd+phaseOffset/(2*pi)*vecB)\n",
    "    \n",
    "    return array([[mod((array([i,j])-val).dot(veckA),area) < onpix for i in range(1,11)] for j in range(1,11)])\n",
    "    \n",
    "    #for i in range(sizex):\n",
    "    #    for j in range(sizey):\n",
    "    #        if mod((array([i,j])-val).dot(veckA),area) < onpix:\n",
    "    #            toReturn[i,j] = 1\n",
    "    #        else:\n",
    "    #            toReturn[i,j] = 0\n",
    "    #        \n",
    "    #return toReturn"
   ]
  },
  {
   "cell_type": "code",
   "execution_count": 3,
   "metadata": {
    "collapsed": true
   },
   "outputs": [],
   "source": [
    "def patterntabArb_Time(vecA, period, onfrac, phaseInd, phaseOffset = 0., nphases =5, sizex =1280, sizey =1024):\n",
    "    \n",
    "    start = time.time()\n",
    "    veckA = array([[0,1],[-1,0]]).dot(vecA)\n",
    "    print('veckA =',veckA)\n",
    "    print('veckA took ',time.time()-start,'to calculate')\n",
    "    \n",
    "    start = time.time()\n",
    "    vecB = veckA/norm(vecA)*period\n",
    "    print('veckB took ',time.time()-start,'to calculate')\n",
    "    \n",
    "    start = time.time()\n",
    "    area = vecB.dot(veckA)\n",
    "    print('area =',area)\n",
    "    print('area took ',time.time()-start,'to calculate')\n",
    "    \n",
    "    start = time.time()\n",
    "    onpix = area*onfrac\n",
    "    print('onpix took ',time.time()-start,'to calculate')\n",
    "    \n",
    "    start = time.time()\n",
    "    phaseStep = vecB/nphases\n",
    "    print('phaseStep took ',time.time()-start,'to calculate')\n",
    "    \n",
    "    start = time.time()\n",
    "    toReturn = zeros((sizex,sizey))\n",
    "    print('toReturn took ',time.time()-start,'to calculate')\n",
    "    \n",
    "    start = time.time()\n",
    "    val = (phaseStep*phaseInd+phaseOffset/(2*pi)*vecB)\n",
    "    print('val =',val)\n",
    "    print('val took ',time.time()-start,'to calculate')\n",
    "    \n",
    "    myTimes = zeros(sizex*sizey)\n",
    "    \n",
    "    for i in range(sizex):\n",
    "        for j in range(sizey):\n",
    "            start = time.time()\n",
    "            if mod((array([i,j])-val).dot(veckA),area) < onpix:\n",
    "                toReturn[i,j] = 1\n",
    "            else:\n",
    "                toReturn[i,j] = 0\n",
    "            myTimes[i+j]=time.time()-start\n",
    "            \n",
    "    print('On average it took',mean(myTimes),'to calculate mod')"
   ]
  },
  {
   "cell_type": "code",
   "execution_count": 4,
   "metadata": {
    "collapsed": true
   },
   "outputs": [],
   "source": [
    "#@autojit\n",
    "def patterntabArb2(vecA, period, onfrac, phaseInd, phaseOffset = 0., nphases =5, sizex = 2048, sizey = 1536):\n",
    "    veckA = array([[0,1],[-1,0]]).dot(vecA)\n",
    "    vecB = veckA/norm(vecA)*period\n",
    "    area = vecB.dot(veckA)\n",
    "    onpix = area*onfrac\n",
    "    phaseStep = vecB/nphases\n",
    "    \n",
    "    toReturn = zeros((sizex,sizey))\n",
    "    \n",
    "    val = (phaseStep*phaseInd+phaseOffset/(2*pi)*vecB)\n",
    "    \n",
    "    return array([[mod((array([i,j])-val).dot(veckA),area) < onpix for j in range(sizey)] for i in range(sizex)])\n",
    "\n",
    "def patterntabArb3(vecA, period, onfrac, phaseInd, phaseOffset = 0., nphases =5, sizex =2048, sizey =1536):\n",
    "    veckA = array([[0,1],[-1,0]]).dot(vecA)\n",
    "    vecB = veckA/norm(vecA)*period\n",
    "    area = vecB.dot(veckA)\n",
    "    onpix = area*onfrac\n",
    "    phaseStep = vecB/nphases\n",
    "    \n",
    "    val = (phaseStep*phaseInd+phaseOffset/(2*pi)*vecB)\n",
    "    \n",
    "    xx, yy = meshgrid(arange(sizex),arange(sizey))\n",
    "    my_grid = dstack((yy,xx))\n",
    "    \n",
    "    \n",
    "    return mod((my_grid-val).dot(veckA),area) < onpix"
   ]
  },
  {
   "cell_type": "code",
   "execution_count": 5,
   "metadata": {
    "collapsed": false
   },
   "outputs": [],
   "source": [
    "test = patterntabArb(array([12, -1]), 4.8277, 0.5, 0, 0., 3, 64, 64)\n",
    "test2 = patterntabArb2(array([12, -1]), 4.8277, 0.5, 0, 0., 3, 64, 64)\n",
    "test3 = patterntabArb3(array([12, -1]), 4.8277, 0.5, 0, 0., 3, 64, 64)"
   ]
  },
  {
   "cell_type": "code",
   "execution_count": 6,
   "metadata": {
    "collapsed": false
   },
   "outputs": [
    {
     "data": {
      "text/plain": [
       "<matplotlib.image.AxesImage at 0x10bf5bb70>"
      ]
     },
     "execution_count": 6,
     "metadata": {},
     "output_type": "execute_result"
    },
    {
     "data": {
      "image/png": "[encoded data removed]",
      "text/plain": [
       "<matplotlib.figure.Figure at 0x10be6d5f8>"
      ]
     },
     "metadata": {},
     "output_type": "display_data"
    },
    {
     "data": {
      "image/png": "[encoded data removed]",
      "text/plain": [
       "<matplotlib.figure.Figure at 0x10be6d5c0>"
      ]
     },
     "metadata": {},
     "output_type": "display_data"
    },
    {
     "data": {
      "image/png": "[encoded data removed]",
      "text/plain": [
       "<matplotlib.figure.Figure at 0x10be82518>"
      ]
     },
     "metadata": {},
     "output_type": "display_data"
    }
   ],
   "source": [
    "matshow(test)\n",
    "matshow(test2)\n",
    "matshow(test3)"
   ]
  },
  {
   "cell_type": "code",
   "execution_count": 7,
   "metadata": {
    "collapsed": false
   },
   "outputs": [
    {
     "name": "stdout",
     "output_type": "stream",
     "text": [
      "1 loops, best of 3: 611 ms per loop\n"
     ]
    }
   ],
   "source": [
    "#%timeit patterntabArb(array([12, -1]), 4.8277, 0.5, 0, 0., 3, 128, 128)\n",
    "#%timeit patterntabArb2(array([12, -1]), 4.8277, 0.5, 0, 0., 3)\n",
    "%timeit patterntabArb3(array([12, -1]), 4.8277, 0.5, 0, 0., 3)"
   ]
  },
  {
   "cell_type": "code",
   "execution_count": 84,
   "metadata": {
    "collapsed": false
   },
   "outputs": [
    {
     "name": "stdout",
     "output_type": "stream",
     "text": [
      "veckA = [ -1 -12]\n",
      "veckA took  0.0008869171142578125 to calculate\n",
      "veckB took  9.202957153320312e-05 to calculate\n",
      "area = 58.133206148\n",
      "area took  5.91278076171875e-05 to calculate\n",
      "onpix took  1.1920928955078125e-06 to calculate\n",
      "phaseStep took  1.0013580322265625e-05 to calculate\n",
      "toReturn took  0.00011897087097167969 to calculate\n",
      "val = [-0. -0.]\n",
      "val took  0.0006530284881591797 to calculate\n",
      "On average it took 2.14276951738e-07 to calculate mod\n",
      "veckA = [ -1 -12]\n",
      "veckA took  0.04256892204284668 to calculate\n",
      "veckB took  6.29425048828125e-05 to calculate\n",
      "area = 58.133206148\n",
      "area took  4.696846008300781e-05 to calculate\n",
      "onpix took  1.9073486328125e-06 to calculate\n",
      "phaseStep took  1.0013580322265625e-05 to calculate\n",
      "toReturn took  0.0002810955047607422 to calculate\n",
      "val = [-0. -0.]\n",
      "val took  0.0005881786346435547 to calculate\n",
      "On average it took 2.2613312467e-07 to calculate mod\n",
      "veckA = [ -1 -12]\n",
      "veckA took  0.001043081283569336 to calculate\n",
      "veckB took  6.413459777832031e-05 to calculate\n",
      "area = 58.133206148\n",
      "area took  4.38690185546875e-05 to calculate\n",
      "onpix took  1.9073486328125e-06 to calculate\n",
      "phaseStep took  1.0013580322265625e-05 to calculate\n",
      "toReturn took  0.00019216537475585938 to calculate\n",
      "val = [-0. -0.]\n",
      "val took  0.0007050037384033203 to calculate\n",
      "On average it took 1.96861947188e-07 to calculate mod\n",
      "veckA = [ -1 -12]\n",
      "veckA took  0.0008249282836914062 to calculate\n",
      "veckB took  5.0067901611328125e-05 to calculate\n",
      "area = 58.133206148\n",
      "area took  4.291534423828125e-05 to calculate\n",
      "onpix took  9.5367431640625e-07 to calculate\n",
      "phaseStep took  9.059906005859375e-06 to calculate\n",
      "toReturn took  0.00014495849609375 to calculate\n",
      "val = [-0. -0.]\n",
      "val took  0.0005631446838378906 to calculate\n",
      "On average it took 1.90881110029e-07 to calculate mod\n",
      "1 loops, best of 3: 2.16 s per loop\n"
     ]
    }
   ],
   "source": [
    "%timeit patterntabArb_Time(array([12, -1]), 4.8277, 0.5, 0, 0., 3, 256, 256)"
   ]
  },
  {
   "cell_type": "code",
   "execution_count": 15,
   "metadata": {
    "collapsed": false
   },
   "outputs": [
    {
     "name": "stdout",
     "output_type": "stream",
     "text": [
      "[[0, 0, 0, 0, 0, 0, 0, 0, 0, 0], [1, 0, 1, 0, 1, 0, 1, 0, 1, 0], [1, 2, 0, 1, 2, 0, 1, 2, 0, 1], [1, 2, 3, 0, 1, 2, 3, 0, 1, 2], [1, 2, 3, 4, 0, 1, 2, 3, 4, 0], [1, 2, 3, 4, 5, 0, 1, 2, 3, 4], [1, 2, 3, 4, 5, 6, 0, 1, 2, 3], [1, 2, 3, 4, 5, 6, 7, 0, 1, 2], [1, 2, 3, 4, 5, 6, 7, 8, 0, 1], [1, 2, 3, 4, 5, 6, 7, 8, 9, 0]]\n"
     ]
    }
   ],
   "source": [
    "test =[[mod(i,j) for i in range(1,11)] for j in range(1,11)]\n",
    "print(test)"
   ]
  }
 ],
 "metadata": {
  "kernelspec": {
   "display_name": "Python 3",
   "language": "python",
   "name": "python3"
  },
  "language_info": {
   "codemirror_mode": {
    "name": "ipython",
    "version": 3
   },
   "file_extension": ".py",
   "mimetype": "text/x-python",
   "name": "python",
   "nbconvert_exporter": "python",
   "pygments_lexer": "ipython3",
   "version": "3.4.3"
  }
 },
 "nbformat": 4,
 "nbformat_minor": 0
}
